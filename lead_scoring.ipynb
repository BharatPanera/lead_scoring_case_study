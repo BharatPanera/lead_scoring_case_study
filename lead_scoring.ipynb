{
 "cells": [
  {
   "cell_type": "markdown",
   "metadata": {},
   "source": [
    "### Import libraries"
   ]
  },
  {
   "cell_type": "markdown",
   "metadata": {},
   "source": [
    "##### Steps to follow:\n",
    "1. Reading and understanding the data\n",
    "2. Preparing data for modeling (split into train & test)\n",
    "3. Training the model\n",
    "4. Residual analysis\n",
    "5. Prediction and evaluation on the test data\n"
   ]
  },
  {
   "cell_type": "code",
   "execution_count": 1,
   "metadata": {},
   "outputs": [],
   "source": [
    "import warnings\n",
    "warnings.filterwarnings('ignore')\n",
    "\n",
    "import pandas as pd\n",
    "import numpy as np\n",
    "\n",
    "import matplotlib.pyplot as plt\n",
    "import seaborn as sns\n"
   ]
  },
  {
   "cell_type": "markdown",
   "metadata": {},
   "source": [
    "# 1. EDA"
   ]
  },
  {
   "cell_type": "markdown",
   "metadata": {},
   "source": [
    "#### 1.1 - Understand the Dataset"
   ]
  },
  {
   "cell_type": "code",
   "execution_count": 2,
   "metadata": {},
   "outputs": [
    {
     "data": {
      "text/html": [
       "<div>\n",
       "<style scoped>\n",
       "    .dataframe tbody tr th:only-of-type {\n",
       "        vertical-align: middle;\n",
       "    }\n",
       "\n",
       "    .dataframe tbody tr th {\n",
       "        vertical-align: top;\n",
       "    }\n",
       "\n",
       "    .dataframe thead th {\n",
       "        text-align: right;\n",
       "    }\n",
       "</style>\n",
       "<table border=\"1\" class=\"dataframe\">\n",
       "  <thead>\n",
       "    <tr style=\"text-align: right;\">\n",
       "      <th></th>\n",
       "      <th>Prospect ID</th>\n",
       "      <th>Lead Number</th>\n",
       "      <th>Lead Origin</th>\n",
       "      <th>Lead Source</th>\n",
       "      <th>Do Not Email</th>\n",
       "      <th>Do Not Call</th>\n",
       "      <th>Converted</th>\n",
       "      <th>TotalVisits</th>\n",
       "      <th>Total Time Spent on Website</th>\n",
       "      <th>Page Views Per Visit</th>\n",
       "      <th>...</th>\n",
       "      <th>Get updates on DM Content</th>\n",
       "      <th>Lead Profile</th>\n",
       "      <th>City</th>\n",
       "      <th>Asymmetrique Activity Index</th>\n",
       "      <th>Asymmetrique Profile Index</th>\n",
       "      <th>Asymmetrique Activity Score</th>\n",
       "      <th>Asymmetrique Profile Score</th>\n",
       "      <th>I agree to pay the amount through cheque</th>\n",
       "      <th>A free copy of Mastering The Interview</th>\n",
       "      <th>Last Notable Activity</th>\n",
       "    </tr>\n",
       "  </thead>\n",
       "  <tbody>\n",
       "    <tr>\n",
       "      <th>0</th>\n",
       "      <td>7927b2df-8bba-4d29-b9a2-b6e0beafe620</td>\n",
       "      <td>660737</td>\n",
       "      <td>API</td>\n",
       "      <td>Olark Chat</td>\n",
       "      <td>No</td>\n",
       "      <td>No</td>\n",
       "      <td>0</td>\n",
       "      <td>0.0</td>\n",
       "      <td>0</td>\n",
       "      <td>0.0</td>\n",
       "      <td>...</td>\n",
       "      <td>No</td>\n",
       "      <td>Select</td>\n",
       "      <td>Select</td>\n",
       "      <td>02.Medium</td>\n",
       "      <td>02.Medium</td>\n",
       "      <td>15.0</td>\n",
       "      <td>15.0</td>\n",
       "      <td>No</td>\n",
       "      <td>No</td>\n",
       "      <td>Modified</td>\n",
       "    </tr>\n",
       "    <tr>\n",
       "      <th>1</th>\n",
       "      <td>2a272436-5132-4136-86fa-dcc88c88f482</td>\n",
       "      <td>660728</td>\n",
       "      <td>API</td>\n",
       "      <td>Organic Search</td>\n",
       "      <td>No</td>\n",
       "      <td>No</td>\n",
       "      <td>0</td>\n",
       "      <td>5.0</td>\n",
       "      <td>674</td>\n",
       "      <td>2.5</td>\n",
       "      <td>...</td>\n",
       "      <td>No</td>\n",
       "      <td>Select</td>\n",
       "      <td>Select</td>\n",
       "      <td>02.Medium</td>\n",
       "      <td>02.Medium</td>\n",
       "      <td>15.0</td>\n",
       "      <td>15.0</td>\n",
       "      <td>No</td>\n",
       "      <td>No</td>\n",
       "      <td>Email Opened</td>\n",
       "    </tr>\n",
       "    <tr>\n",
       "      <th>2</th>\n",
       "      <td>8cc8c611-a219-4f35-ad23-fdfd2656bd8a</td>\n",
       "      <td>660727</td>\n",
       "      <td>Landing Page Submission</td>\n",
       "      <td>Direct Traffic</td>\n",
       "      <td>No</td>\n",
       "      <td>No</td>\n",
       "      <td>1</td>\n",
       "      <td>2.0</td>\n",
       "      <td>1532</td>\n",
       "      <td>2.0</td>\n",
       "      <td>...</td>\n",
       "      <td>No</td>\n",
       "      <td>Potential Lead</td>\n",
       "      <td>Mumbai</td>\n",
       "      <td>02.Medium</td>\n",
       "      <td>01.High</td>\n",
       "      <td>14.0</td>\n",
       "      <td>20.0</td>\n",
       "      <td>No</td>\n",
       "      <td>Yes</td>\n",
       "      <td>Email Opened</td>\n",
       "    </tr>\n",
       "    <tr>\n",
       "      <th>3</th>\n",
       "      <td>0cc2df48-7cf4-4e39-9de9-19797f9b38cc</td>\n",
       "      <td>660719</td>\n",
       "      <td>Landing Page Submission</td>\n",
       "      <td>Direct Traffic</td>\n",
       "      <td>No</td>\n",
       "      <td>No</td>\n",
       "      <td>0</td>\n",
       "      <td>1.0</td>\n",
       "      <td>305</td>\n",
       "      <td>1.0</td>\n",
       "      <td>...</td>\n",
       "      <td>No</td>\n",
       "      <td>Select</td>\n",
       "      <td>Mumbai</td>\n",
       "      <td>02.Medium</td>\n",
       "      <td>01.High</td>\n",
       "      <td>13.0</td>\n",
       "      <td>17.0</td>\n",
       "      <td>No</td>\n",
       "      <td>No</td>\n",
       "      <td>Modified</td>\n",
       "    </tr>\n",
       "    <tr>\n",
       "      <th>4</th>\n",
       "      <td>3256f628-e534-4826-9d63-4a8b88782852</td>\n",
       "      <td>660681</td>\n",
       "      <td>Landing Page Submission</td>\n",
       "      <td>Google</td>\n",
       "      <td>No</td>\n",
       "      <td>No</td>\n",
       "      <td>1</td>\n",
       "      <td>2.0</td>\n",
       "      <td>1428</td>\n",
       "      <td>1.0</td>\n",
       "      <td>...</td>\n",
       "      <td>No</td>\n",
       "      <td>Select</td>\n",
       "      <td>Mumbai</td>\n",
       "      <td>02.Medium</td>\n",
       "      <td>01.High</td>\n",
       "      <td>15.0</td>\n",
       "      <td>18.0</td>\n",
       "      <td>No</td>\n",
       "      <td>No</td>\n",
       "      <td>Modified</td>\n",
       "    </tr>\n",
       "  </tbody>\n",
       "</table>\n",
       "<p>5 rows × 37 columns</p>\n",
       "</div>"
      ],
      "text/plain": [
       "                            Prospect ID  Lead Number              Lead Origin  \\\n",
       "0  7927b2df-8bba-4d29-b9a2-b6e0beafe620       660737                      API   \n",
       "1  2a272436-5132-4136-86fa-dcc88c88f482       660728                      API   \n",
       "2  8cc8c611-a219-4f35-ad23-fdfd2656bd8a       660727  Landing Page Submission   \n",
       "3  0cc2df48-7cf4-4e39-9de9-19797f9b38cc       660719  Landing Page Submission   \n",
       "4  3256f628-e534-4826-9d63-4a8b88782852       660681  Landing Page Submission   \n",
       "\n",
       "      Lead Source Do Not Email Do Not Call  Converted  TotalVisits  \\\n",
       "0      Olark Chat           No          No          0          0.0   \n",
       "1  Organic Search           No          No          0          5.0   \n",
       "2  Direct Traffic           No          No          1          2.0   \n",
       "3  Direct Traffic           No          No          0          1.0   \n",
       "4          Google           No          No          1          2.0   \n",
       "\n",
       "   Total Time Spent on Website  Page Views Per Visit  ...  \\\n",
       "0                            0                   0.0  ...   \n",
       "1                          674                   2.5  ...   \n",
       "2                         1532                   2.0  ...   \n",
       "3                          305                   1.0  ...   \n",
       "4                         1428                   1.0  ...   \n",
       "\n",
       "  Get updates on DM Content    Lead Profile    City  \\\n",
       "0                        No          Select  Select   \n",
       "1                        No          Select  Select   \n",
       "2                        No  Potential Lead  Mumbai   \n",
       "3                        No          Select  Mumbai   \n",
       "4                        No          Select  Mumbai   \n",
       "\n",
       "  Asymmetrique Activity Index Asymmetrique Profile Index  \\\n",
       "0                   02.Medium                  02.Medium   \n",
       "1                   02.Medium                  02.Medium   \n",
       "2                   02.Medium                    01.High   \n",
       "3                   02.Medium                    01.High   \n",
       "4                   02.Medium                    01.High   \n",
       "\n",
       "  Asymmetrique Activity Score Asymmetrique Profile Score  \\\n",
       "0                        15.0                       15.0   \n",
       "1                        15.0                       15.0   \n",
       "2                        14.0                       20.0   \n",
       "3                        13.0                       17.0   \n",
       "4                        15.0                       18.0   \n",
       "\n",
       "  I agree to pay the amount through cheque  \\\n",
       "0                                       No   \n",
       "1                                       No   \n",
       "2                                       No   \n",
       "3                                       No   \n",
       "4                                       No   \n",
       "\n",
       "  A free copy of Mastering The Interview Last Notable Activity  \n",
       "0                                     No              Modified  \n",
       "1                                     No          Email Opened  \n",
       "2                                    Yes          Email Opened  \n",
       "3                                     No              Modified  \n",
       "4                                     No              Modified  \n",
       "\n",
       "[5 rows x 37 columns]"
      ]
     },
     "execution_count": 2,
     "metadata": {},
     "output_type": "execute_result"
    }
   ],
   "source": [
    "lead_data = pd.read_csv('Leads.csv')\n",
    "lead_data.head()"
   ]
  },
  {
   "cell_type": "code",
   "execution_count": 3,
   "metadata": {},
   "outputs": [
    {
     "name": "stdout",
     "output_type": "stream",
     "text": [
      "(9240, 37)\n"
     ]
    }
   ],
   "source": [
    "print(lead_data.shape)"
   ]
  },
  {
   "cell_type": "code",
   "execution_count": 4,
   "metadata": {},
   "outputs": [
    {
     "name": "stdout",
     "output_type": "stream",
     "text": [
      "Index(['Prospect ID', 'Lead Number', 'Lead Origin', 'Lead Source',\n",
      "       'Do Not Email', 'Do Not Call', 'Converted', 'TotalVisits',\n",
      "       'Total Time Spent on Website', 'Page Views Per Visit', 'Last Activity',\n",
      "       'Country', 'Specialization', 'How did you hear about X Education',\n",
      "       'What is your current occupation',\n",
      "       'What matters most to you in choosing a course', 'Search', 'Magazine',\n",
      "       'Newspaper Article', 'X Education Forums', 'Newspaper',\n",
      "       'Digital Advertisement', 'Through Recommendations',\n",
      "       'Receive More Updates About Our Courses', 'Tags', 'Lead Quality',\n",
      "       'Update me on Supply Chain Content', 'Get updates on DM Content',\n",
      "       'Lead Profile', 'City', 'Asymmetrique Activity Index',\n",
      "       'Asymmetrique Profile Index', 'Asymmetrique Activity Score',\n",
      "       'Asymmetrique Profile Score',\n",
      "       'I agree to pay the amount through cheque',\n",
      "       'A free copy of Mastering The Interview', 'Last Notable Activity'],\n",
      "      dtype='object')\n"
     ]
    }
   ],
   "source": [
    "print(lead_data.columns)"
   ]
  },
  {
   "cell_type": "code",
   "execution_count": 5,
   "metadata": {},
   "outputs": [
    {
     "data": {
      "text/html": [
       "<div>\n",
       "<style scoped>\n",
       "    .dataframe tbody tr th:only-of-type {\n",
       "        vertical-align: middle;\n",
       "    }\n",
       "\n",
       "    .dataframe tbody tr th {\n",
       "        vertical-align: top;\n",
       "    }\n",
       "\n",
       "    .dataframe thead th {\n",
       "        text-align: right;\n",
       "    }\n",
       "</style>\n",
       "<table border=\"1\" class=\"dataframe\">\n",
       "  <thead>\n",
       "    <tr style=\"text-align: right;\">\n",
       "      <th></th>\n",
       "      <th>Lead Number</th>\n",
       "      <th>Converted</th>\n",
       "      <th>TotalVisits</th>\n",
       "      <th>Total Time Spent on Website</th>\n",
       "      <th>Page Views Per Visit</th>\n",
       "      <th>Asymmetrique Activity Score</th>\n",
       "      <th>Asymmetrique Profile Score</th>\n",
       "    </tr>\n",
       "  </thead>\n",
       "  <tbody>\n",
       "    <tr>\n",
       "      <th>count</th>\n",
       "      <td>9240.000000</td>\n",
       "      <td>9240.000000</td>\n",
       "      <td>9103.000000</td>\n",
       "      <td>9240.000000</td>\n",
       "      <td>9103.000000</td>\n",
       "      <td>5022.000000</td>\n",
       "      <td>5022.000000</td>\n",
       "    </tr>\n",
       "    <tr>\n",
       "      <th>mean</th>\n",
       "      <td>617188.435606</td>\n",
       "      <td>0.385390</td>\n",
       "      <td>3.445238</td>\n",
       "      <td>487.698268</td>\n",
       "      <td>2.362820</td>\n",
       "      <td>14.306252</td>\n",
       "      <td>16.344883</td>\n",
       "    </tr>\n",
       "    <tr>\n",
       "      <th>std</th>\n",
       "      <td>23405.995698</td>\n",
       "      <td>0.486714</td>\n",
       "      <td>4.854853</td>\n",
       "      <td>548.021466</td>\n",
       "      <td>2.161418</td>\n",
       "      <td>1.386694</td>\n",
       "      <td>1.811395</td>\n",
       "    </tr>\n",
       "    <tr>\n",
       "      <th>min</th>\n",
       "      <td>579533.000000</td>\n",
       "      <td>0.000000</td>\n",
       "      <td>0.000000</td>\n",
       "      <td>0.000000</td>\n",
       "      <td>0.000000</td>\n",
       "      <td>7.000000</td>\n",
       "      <td>11.000000</td>\n",
       "    </tr>\n",
       "    <tr>\n",
       "      <th>25%</th>\n",
       "      <td>596484.500000</td>\n",
       "      <td>0.000000</td>\n",
       "      <td>1.000000</td>\n",
       "      <td>12.000000</td>\n",
       "      <td>1.000000</td>\n",
       "      <td>14.000000</td>\n",
       "      <td>15.000000</td>\n",
       "    </tr>\n",
       "    <tr>\n",
       "      <th>50%</th>\n",
       "      <td>615479.000000</td>\n",
       "      <td>0.000000</td>\n",
       "      <td>3.000000</td>\n",
       "      <td>248.000000</td>\n",
       "      <td>2.000000</td>\n",
       "      <td>14.000000</td>\n",
       "      <td>16.000000</td>\n",
       "    </tr>\n",
       "    <tr>\n",
       "      <th>75%</th>\n",
       "      <td>637387.250000</td>\n",
       "      <td>1.000000</td>\n",
       "      <td>5.000000</td>\n",
       "      <td>936.000000</td>\n",
       "      <td>3.000000</td>\n",
       "      <td>15.000000</td>\n",
       "      <td>18.000000</td>\n",
       "    </tr>\n",
       "    <tr>\n",
       "      <th>max</th>\n",
       "      <td>660737.000000</td>\n",
       "      <td>1.000000</td>\n",
       "      <td>251.000000</td>\n",
       "      <td>2272.000000</td>\n",
       "      <td>55.000000</td>\n",
       "      <td>18.000000</td>\n",
       "      <td>20.000000</td>\n",
       "    </tr>\n",
       "  </tbody>\n",
       "</table>\n",
       "</div>"
      ],
      "text/plain": [
       "         Lead Number    Converted  TotalVisits  Total Time Spent on Website  \\\n",
       "count    9240.000000  9240.000000  9103.000000                  9240.000000   \n",
       "mean   617188.435606     0.385390     3.445238                   487.698268   \n",
       "std     23405.995698     0.486714     4.854853                   548.021466   \n",
       "min    579533.000000     0.000000     0.000000                     0.000000   \n",
       "25%    596484.500000     0.000000     1.000000                    12.000000   \n",
       "50%    615479.000000     0.000000     3.000000                   248.000000   \n",
       "75%    637387.250000     1.000000     5.000000                   936.000000   \n",
       "max    660737.000000     1.000000   251.000000                  2272.000000   \n",
       "\n",
       "       Page Views Per Visit  Asymmetrique Activity Score  \\\n",
       "count           9103.000000                  5022.000000   \n",
       "mean               2.362820                    14.306252   \n",
       "std                2.161418                     1.386694   \n",
       "min                0.000000                     7.000000   \n",
       "25%                1.000000                    14.000000   \n",
       "50%                2.000000                    14.000000   \n",
       "75%                3.000000                    15.000000   \n",
       "max               55.000000                    18.000000   \n",
       "\n",
       "       Asymmetrique Profile Score  \n",
       "count                 5022.000000  \n",
       "mean                    16.344883  \n",
       "std                      1.811395  \n",
       "min                     11.000000  \n",
       "25%                     15.000000  \n",
       "50%                     16.000000  \n",
       "75%                     18.000000  \n",
       "max                     20.000000  "
      ]
     },
     "execution_count": 5,
     "metadata": {},
     "output_type": "execute_result"
    }
   ],
   "source": [
    "lead_data.describe()"
   ]
  },
  {
   "cell_type": "code",
   "execution_count": 6,
   "metadata": {},
   "outputs": [
    {
     "name": "stdout",
     "output_type": "stream",
     "text": [
      "<class 'pandas.core.frame.DataFrame'>\n",
      "RangeIndex: 9240 entries, 0 to 9239\n",
      "Data columns (total 37 columns):\n",
      " #   Column                                         Non-Null Count  Dtype  \n",
      "---  ------                                         --------------  -----  \n",
      " 0   Prospect ID                                    9240 non-null   object \n",
      " 1   Lead Number                                    9240 non-null   int64  \n",
      " 2   Lead Origin                                    9240 non-null   object \n",
      " 3   Lead Source                                    9204 non-null   object \n",
      " 4   Do Not Email                                   9240 non-null   object \n",
      " 5   Do Not Call                                    9240 non-null   object \n",
      " 6   Converted                                      9240 non-null   int64  \n",
      " 7   TotalVisits                                    9103 non-null   float64\n",
      " 8   Total Time Spent on Website                    9240 non-null   int64  \n",
      " 9   Page Views Per Visit                           9103 non-null   float64\n",
      " 10  Last Activity                                  9137 non-null   object \n",
      " 11  Country                                        6779 non-null   object \n",
      " 12  Specialization                                 7802 non-null   object \n",
      " 13  How did you hear about X Education             7033 non-null   object \n",
      " 14  What is your current occupation                6550 non-null   object \n",
      " 15  What matters most to you in choosing a course  6531 non-null   object \n",
      " 16  Search                                         9240 non-null   object \n",
      " 17  Magazine                                       9240 non-null   object \n",
      " 18  Newspaper Article                              9240 non-null   object \n",
      " 19  X Education Forums                             9240 non-null   object \n",
      " 20  Newspaper                                      9240 non-null   object \n",
      " 21  Digital Advertisement                          9240 non-null   object \n",
      " 22  Through Recommendations                        9240 non-null   object \n",
      " 23  Receive More Updates About Our Courses         9240 non-null   object \n",
      " 24  Tags                                           5887 non-null   object \n",
      " 25  Lead Quality                                   4473 non-null   object \n",
      " 26  Update me on Supply Chain Content              9240 non-null   object \n",
      " 27  Get updates on DM Content                      9240 non-null   object \n",
      " 28  Lead Profile                                   6531 non-null   object \n",
      " 29  City                                           7820 non-null   object \n",
      " 30  Asymmetrique Activity Index                    5022 non-null   object \n",
      " 31  Asymmetrique Profile Index                     5022 non-null   object \n",
      " 32  Asymmetrique Activity Score                    5022 non-null   float64\n",
      " 33  Asymmetrique Profile Score                     5022 non-null   float64\n",
      " 34  I agree to pay the amount through cheque       9240 non-null   object \n",
      " 35  A free copy of Mastering The Interview         9240 non-null   object \n",
      " 36  Last Notable Activity                          9240 non-null   object \n",
      "dtypes: float64(4), int64(3), object(30)\n",
      "memory usage: 2.6+ MB\n"
     ]
    }
   ],
   "source": [
    "lead_data.info()"
   ]
  },
  {
   "cell_type": "markdown",
   "metadata": {},
   "source": [
    "- The majority of the columns have an object data type, which we will convert accordingly."
   ]
  },
  {
   "cell_type": "code",
   "execution_count": 7,
   "metadata": {},
   "outputs": [
    {
     "name": "stdout",
     "output_type": "stream",
     "text": [
      "'Prospect ID': ['7927b2df-8bba-4d29-b9a2-b6e0beafe620'\n",
      " '2a272436-5132-4136-86fa-dcc88c88f482'\n",
      " '8cc8c611-a219-4f35-ad23-fdfd2656bd8a' ...\n",
      " 'aac550fe-a586-452d-8d3c-f1b62c94e02c'\n",
      " '5330a7d1-2f2b-4df4-85d6-64ca2f6b95b9'\n",
      " '571b5c8e-a5b2-4d57-8574-f2ffb06fdeff']\n",
      "\n",
      "'Lead Number': [660737 660728 660727 ... 579545 579538 579533]\n",
      "\n",
      "'Lead Origin': ['API' 'Landing Page Submission' 'Lead Add Form' 'Lead Import'\n",
      " 'Quick Add Form']\n",
      "\n",
      "'Lead Source': ['Olark Chat' 'Organic Search' 'Direct Traffic' 'Google' 'Referral Sites'\n",
      " 'Welingak Website' 'Reference' 'google' 'Facebook' nan 'blog'\n",
      " 'Pay per Click Ads' 'bing' 'Social Media' 'WeLearn' 'Click2call'\n",
      " 'Live Chat' 'welearnblog_Home' 'youtubechannel' 'testone' 'Press_Release'\n",
      " 'NC_EDM']\n",
      "\n",
      "'Do Not Email': ['No' 'Yes']\n",
      "\n",
      "'Do Not Call': ['No' 'Yes']\n",
      "\n",
      "'Converted': [0 1]\n",
      "\n",
      "'TotalVisits': [  0.   5.   2.   1.   4.   8.  11.   6.   3.   7.  13.  17.  nan   9.\n",
      "  12.  10.  16.  14.  21.  15.  22.  19.  18.  20.  43.  30.  23.  55.\n",
      " 141.  25.  27.  29.  24.  28.  26.  74.  41.  54. 115. 251.  32.  42.]\n",
      "\n",
      "'Total Time Spent on Website': [   0  674 1532 ...  603  483  927]\n",
      "\n",
      "'Page Views Per Visit': [ 0.    2.5   2.    1.    4.    8.    2.67 11.    5.    6.    3.    1.33\n",
      "  1.5   3.5   7.    2.33 13.    8.5   5.5   1.67   nan  4.5   3.33 16.\n",
      " 12.    1.71  1.8   6.5   4.33 14.    3.4  10.    1.25  1.75  2.63 15.\n",
      "  2.25  3.67  1.43  9.    2.6   4.75  1.27  3.25  5.33  2.57  2.17  2.75\n",
      "  2.8   2.2   2.86  3.91  1.4   5.67  3.2   1.38  2.09  2.4  55.    5.25\n",
      "  6.71  3.57  2.22  1.83  3.6   1.2   1.57  1.56  5.4   4.25  1.31  1.6\n",
      "  2.9   1.23  1.78  3.83  7.5   1.14  2.71  1.45  2.38  1.86  2.29  1.21\n",
      " 12.33  3.43  2.56  6.33  1.64  8.21  4.4   3.17  8.33  1.48  1.22 24.\n",
      "  3.75  6.67  1.54  2.13  2.14  2.45  3.29  4.17  1.63  3.38  1.17 14.5\n",
      "  3.8   1.19  3.82  2.83  1.93 11.5   2.08]\n",
      "\n",
      "'Last Activity': ['Page Visited on Website' 'Email Opened' 'Unreachable'\n",
      " 'Converted to Lead' 'Olark Chat Conversation' 'Email Bounced'\n",
      " 'Email Link Clicked' 'Form Submitted on Website' 'Unsubscribed'\n",
      " 'Had a Phone Conversation' 'View in browser link Clicked' nan\n",
      " 'Approached upfront' 'SMS Sent' 'Visited Booth in Tradeshow'\n",
      " 'Resubscribed to emails' 'Email Received' 'Email Marked Spam']\n",
      "\n",
      "'Country': [nan 'India' 'Russia' 'Kuwait' 'Oman' 'United Arab Emirates'\n",
      " 'United States' 'Australia' 'United Kingdom' 'Bahrain' 'Ghana'\n",
      " 'Singapore' 'Qatar' 'Saudi Arabia' 'Belgium' 'France' 'Sri Lanka' 'China'\n",
      " 'Canada' 'Netherlands' 'Sweden' 'Nigeria' 'Hong Kong' 'Germany'\n",
      " 'Asia/Pacific Region' 'Uganda' 'Kenya' 'Italy' 'South Africa' 'Tanzania'\n",
      " 'unknown' 'Malaysia' 'Liberia' 'Switzerland' 'Denmark' 'Philippines'\n",
      " 'Bangladesh' 'Vietnam' 'Indonesia']\n",
      "\n",
      "'Specialization': ['Select' 'Business Administration' 'Media and Advertising' nan\n",
      " 'Supply Chain Management' 'IT Projects Management' 'Finance Management'\n",
      " 'Travel and Tourism' 'Human Resource Management' 'Marketing Management'\n",
      " 'Banking, Investment And Insurance' 'International Business' 'E-COMMERCE'\n",
      " 'Operations Management' 'Retail Management' 'Services Excellence'\n",
      " 'Hospitality Management' 'Rural and Agribusiness' 'Healthcare Management'\n",
      " 'E-Business']\n",
      "\n",
      "'How did you hear about X Education': ['Select' 'Word Of Mouth' 'Other' nan 'Online Search' 'Multiple Sources'\n",
      " 'Advertisements' 'Student of SomeSchool' 'Email' 'Social Media' 'SMS']\n",
      "\n",
      "'What is your current occupation': ['Unemployed' 'Student' nan 'Working Professional' 'Businessman' 'Other'\n",
      " 'Housewife']\n",
      "\n",
      "'What matters most to you in choosing a course': ['Better Career Prospects' nan 'Flexibility & Convenience' 'Other']\n",
      "\n",
      "'Search': ['No' 'Yes']\n",
      "\n",
      "'Magazine': ['No']\n",
      "\n",
      "'Newspaper Article': ['No' 'Yes']\n",
      "\n",
      "'X Education Forums': ['No' 'Yes']\n",
      "\n",
      "'Newspaper': ['No' 'Yes']\n",
      "\n",
      "'Digital Advertisement': ['No' 'Yes']\n",
      "\n",
      "'Through Recommendations': ['No' 'Yes']\n",
      "\n",
      "'Receive More Updates About Our Courses': ['No']\n",
      "\n",
      "'Tags': ['Interested in other courses' 'Ringing'\n",
      " 'Will revert after reading the email' nan 'Lost to EINS'\n",
      " 'In confusion whether part time or DLP' 'Busy' 'switched off'\n",
      " 'in touch with EINS' 'Already a student' 'Diploma holder (Not Eligible)'\n",
      " 'Graduation in progress' 'Closed by Horizzon' 'number not provided'\n",
      " 'opp hangup' 'Not doing further education' 'invalid number'\n",
      " 'wrong number given' 'Interested  in full time MBA' 'Still Thinking'\n",
      " 'Lost to Others' 'Shall take in the next coming month' 'Lateral student'\n",
      " 'Interested in Next batch' 'Recognition issue (DEC approval)'\n",
      " 'Want to take admission but has financial problems'\n",
      " 'University not recognized']\n",
      "\n",
      "'Lead Quality': ['Low in Relevance' nan 'Might be' 'Not Sure' 'Worst' 'High in Relevance']\n",
      "\n",
      "'Update me on Supply Chain Content': ['No']\n",
      "\n",
      "'Get updates on DM Content': ['No']\n",
      "\n",
      "'Lead Profile': ['Select' 'Potential Lead' nan 'Other Leads' 'Lateral Student'\n",
      " 'Dual Specialization Student' 'Student of SomeSchool']\n",
      "\n",
      "'City': ['Select' 'Mumbai' nan 'Thane & Outskirts' 'Other Metro Cities'\n",
      " 'Other Cities' 'Other Cities of Maharashtra' 'Tier II Cities']\n",
      "\n",
      "'Asymmetrique Activity Index': ['02.Medium' '01.High' '03.Low' nan]\n",
      "\n",
      "'Asymmetrique Profile Index': ['02.Medium' '01.High' '03.Low' nan]\n",
      "\n",
      "'Asymmetrique Activity Score': [15. 14. 13. 17. 16. 11. 12. 10.  9.  8. 18. nan  7.]\n",
      "\n",
      "'Asymmetrique Profile Score': [15. 20. 17. 18. 14. 16. 13. 19. 12. nan 11.]\n",
      "\n",
      "'I agree to pay the amount through cheque': ['No']\n",
      "\n",
      "'A free copy of Mastering The Interview': ['No' 'Yes']\n",
      "\n",
      "'Last Notable Activity': ['Modified' 'Email Opened' 'Page Visited on Website' 'Email Bounced'\n",
      " 'Email Link Clicked' 'Unreachable' 'Unsubscribed'\n",
      " 'Had a Phone Conversation' 'Olark Chat Conversation' 'SMS Sent'\n",
      " 'Approached upfront' 'Resubscribed to emails'\n",
      " 'View in browser link Clicked' 'Form Submitted on Website'\n",
      " 'Email Received' 'Email Marked Spam']\n",
      "\n"
     ]
    }
   ],
   "source": [
    "# Function to print the unique values from the cols\n",
    "def get_unique_vals(data_set):\n",
    "    for col in data_set.columns:\n",
    "        unique_values = data_set[col].unique()\n",
    "        print(f\"'{col}': {unique_values}\\n\")\n",
    "\n",
    "get_unique_vals(lead_data)"
   ]
  },
  {
   "cell_type": "markdown",
   "metadata": {},
   "source": [
    "- In some of the columns, the \"Select\" value is observed, which might be due to the non-selection of the option. Hence, we can replace the select values with null values."
   ]
  },
  {
   "cell_type": "code",
   "execution_count": 8,
   "metadata": {},
   "outputs": [],
   "source": [
    "lead_data = lead_data.replace('Select', pd.NA)"
   ]
  },
  {
   "cell_type": "markdown",
   "metadata": {},
   "source": [
    "- We have replaced \"Select\" with null values. Now, we can move ahead with handling missing values."
   ]
  },
  {
   "cell_type": "markdown",
   "metadata": {},
   "source": [
    "#### 1.2 - Handle Missing Values"
   ]
  },
  {
   "cell_type": "code",
   "execution_count": 9,
   "metadata": {},
   "outputs": [
    {
     "name": "stdout",
     "output_type": "stream",
     "text": [
      "Prospect ID                                         0\n",
      "Lead Number                                         0\n",
      "Lead Origin                                         0\n",
      "Lead Source                                        36\n",
      "Do Not Email                                        0\n",
      "Do Not Call                                         0\n",
      "Converted                                           0\n",
      "TotalVisits                                       137\n",
      "Total Time Spent on Website                         0\n",
      "Page Views Per Visit                              137\n",
      "Last Activity                                     103\n",
      "Country                                          2461\n",
      "Specialization                                   3380\n",
      "How did you hear about X Education               7250\n",
      "What is your current occupation                  2690\n",
      "What matters most to you in choosing a course    2709\n",
      "Search                                              0\n",
      "Magazine                                            0\n",
      "Newspaper Article                                   0\n",
      "X Education Forums                                  0\n",
      "Newspaper                                           0\n",
      "Digital Advertisement                               0\n",
      "Through Recommendations                             0\n",
      "Receive More Updates About Our Courses              0\n",
      "Tags                                             3353\n",
      "Lead Quality                                     4767\n",
      "Update me on Supply Chain Content                   0\n",
      "Get updates on DM Content                           0\n",
      "Lead Profile                                     6855\n",
      "City                                             3669\n",
      "Asymmetrique Activity Index                      4218\n",
      "Asymmetrique Profile Index                       4218\n",
      "Asymmetrique Activity Score                      4218\n",
      "Asymmetrique Profile Score                       4218\n",
      "I agree to pay the amount through cheque            0\n",
      "A free copy of Mastering The Interview              0\n",
      "Last Notable Activity                               0\n",
      "dtype: int64\n"
     ]
    }
   ],
   "source": [
    "# identifying the null valus in data\n",
    "print(lead_data.isnull().sum())"
   ]
  },
  {
   "cell_type": "code",
   "execution_count": 10,
   "metadata": {},
   "outputs": [
    {
     "name": "stdout",
     "output_type": "stream",
     "text": [
      "Prospect ID                                       0.000000\n",
      "Lead Number                                       0.000000\n",
      "Lead Origin                                       0.000000\n",
      "Lead Source                                       0.389610\n",
      "Do Not Email                                      0.000000\n",
      "Do Not Call                                       0.000000\n",
      "Converted                                         0.000000\n",
      "TotalVisits                                       1.482684\n",
      "Total Time Spent on Website                       0.000000\n",
      "Page Views Per Visit                              1.482684\n",
      "Last Activity                                     1.114719\n",
      "Country                                          26.634199\n",
      "Specialization                                   36.580087\n",
      "How did you hear about X Education               78.463203\n",
      "What is your current occupation                  29.112554\n",
      "What matters most to you in choosing a course    29.318182\n",
      "Search                                            0.000000\n",
      "Magazine                                          0.000000\n",
      "Newspaper Article                                 0.000000\n",
      "X Education Forums                                0.000000\n",
      "Newspaper                                         0.000000\n",
      "Digital Advertisement                             0.000000\n",
      "Through Recommendations                           0.000000\n",
      "Receive More Updates About Our Courses            0.000000\n",
      "Tags                                             36.287879\n",
      "Lead Quality                                     51.590909\n",
      "Update me on Supply Chain Content                 0.000000\n",
      "Get updates on DM Content                         0.000000\n",
      "Lead Profile                                     74.188312\n",
      "City                                             39.707792\n",
      "Asymmetrique Activity Index                      45.649351\n",
      "Asymmetrique Profile Index                       45.649351\n",
      "Asymmetrique Activity Score                      45.649351\n",
      "Asymmetrique Profile Score                       45.649351\n",
      "I agree to pay the amount through cheque          0.000000\n",
      "A free copy of Mastering The Interview            0.000000\n",
      "Last Notable Activity                             0.000000\n",
      "dtype: float64\n"
     ]
    }
   ],
   "source": [
    "# Identify the null values as a percentage.\n",
    "print(lead_data.isnull().sum()*100/len(lead_data))"
   ]
  },
  {
   "cell_type": "markdown",
   "metadata": {},
   "source": [
    "- Drop the columns with null values exceeding 40%."
   ]
  },
  {
   "cell_type": "code",
   "execution_count": 11,
   "metadata": {},
   "outputs": [
    {
     "name": "stdout",
     "output_type": "stream",
     "text": [
      "List of columns having more than 40% empty values: ['How did you hear about X Education', 'Lead Quality', 'Lead Profile', 'Asymmetrique Activity Index', 'Asymmetrique Profile Index', 'Asymmetrique Activity Score', 'Asymmetrique Profile Score']\n",
      "\n",
      "Total columns: 37\n",
      "Removed columns: 7\n",
      "Remaining columns: 30\n"
     ]
    }
   ],
   "source": [
    "# Function that will remove the columns having null values based on the cutoff\n",
    "def drop_null_vals(data_set, cut_off):\n",
    "    \n",
    "    empty_vals = list(data_set.columns[100*data_set.isnull().mean() > cut_off])\n",
    "    print(f\"List of columns having more than {cut_off}% empty values: {empty_vals}\\n\")\n",
    "    print(f\"Total columns: {len(data_set.columns)}\")\n",
    "    print(f\"Removed columns: {len(empty_vals)}\")\n",
    "    \n",
    "    data_set = data_set.drop(empty_vals, axis=1)\n",
    "    print(f\"Remaining columns: {len(data_set.columns)}\")\n",
    "    \n",
    "    return data_set\n",
    "\n",
    "lead_data = drop_null_vals(lead_data, 40)\n"
   ]
  },
  {
   "cell_type": "code",
   "execution_count": 12,
   "metadata": {},
   "outputs": [
    {
     "name": "stdout",
     "output_type": "stream",
     "text": [
      "(9240, 30)\n"
     ]
    }
   ],
   "source": [
    "print(lead_data.shape)"
   ]
  },
  {
   "cell_type": "code",
   "execution_count": 13,
   "metadata": {},
   "outputs": [
    {
     "name": "stdout",
     "output_type": "stream",
     "text": [
      "Prospect ID                                       0.000000\n",
      "Lead Number                                       0.000000\n",
      "Lead Origin                                       0.000000\n",
      "Lead Source                                       0.389610\n",
      "Do Not Email                                      0.000000\n",
      "Do Not Call                                       0.000000\n",
      "Converted                                         0.000000\n",
      "TotalVisits                                       1.482684\n",
      "Total Time Spent on Website                       0.000000\n",
      "Page Views Per Visit                              1.482684\n",
      "Last Activity                                     1.114719\n",
      "Country                                          26.634199\n",
      "Specialization                                   36.580087\n",
      "What is your current occupation                  29.112554\n",
      "What matters most to you in choosing a course    29.318182\n",
      "Search                                            0.000000\n",
      "Magazine                                          0.000000\n",
      "Newspaper Article                                 0.000000\n",
      "X Education Forums                                0.000000\n",
      "Newspaper                                         0.000000\n",
      "Digital Advertisement                             0.000000\n",
      "Through Recommendations                           0.000000\n",
      "Receive More Updates About Our Courses            0.000000\n",
      "Tags                                             36.287879\n",
      "Update me on Supply Chain Content                 0.000000\n",
      "Get updates on DM Content                         0.000000\n",
      "City                                             39.707792\n",
      "I agree to pay the amount through cheque          0.000000\n",
      "A free copy of Mastering The Interview            0.000000\n",
      "Last Notable Activity                             0.000000\n",
      "dtype: float64\n"
     ]
    }
   ],
   "source": [
    "print(lead_data.isnull().sum()*100/len(lead_data))"
   ]
  },
  {
   "cell_type": "code",
   "execution_count": 14,
   "metadata": {},
   "outputs": [
    {
     "name": "stdout",
     "output_type": "stream",
     "text": [
      "<class 'pandas.core.frame.DataFrame'>\n",
      "RangeIndex: 9240 entries, 0 to 9239\n",
      "Data columns (total 30 columns):\n",
      " #   Column                                         Non-Null Count  Dtype  \n",
      "---  ------                                         --------------  -----  \n",
      " 0   Prospect ID                                    9240 non-null   object \n",
      " 1   Lead Number                                    9240 non-null   int64  \n",
      " 2   Lead Origin                                    9240 non-null   object \n",
      " 3   Lead Source                                    9204 non-null   object \n",
      " 4   Do Not Email                                   9240 non-null   object \n",
      " 5   Do Not Call                                    9240 non-null   object \n",
      " 6   Converted                                      9240 non-null   int64  \n",
      " 7   TotalVisits                                    9103 non-null   float64\n",
      " 8   Total Time Spent on Website                    9240 non-null   int64  \n",
      " 9   Page Views Per Visit                           9103 non-null   float64\n",
      " 10  Last Activity                                  9137 non-null   object \n",
      " 11  Country                                        6779 non-null   object \n",
      " 12  Specialization                                 5860 non-null   object \n",
      " 13  What is your current occupation                6550 non-null   object \n",
      " 14  What matters most to you in choosing a course  6531 non-null   object \n",
      " 15  Search                                         9240 non-null   object \n",
      " 16  Magazine                                       9240 non-null   object \n",
      " 17  Newspaper Article                              9240 non-null   object \n",
      " 18  X Education Forums                             9240 non-null   object \n",
      " 19  Newspaper                                      9240 non-null   object \n",
      " 20  Digital Advertisement                          9240 non-null   object \n",
      " 21  Through Recommendations                        9240 non-null   object \n",
      " 22  Receive More Updates About Our Courses         9240 non-null   object \n",
      " 23  Tags                                           5887 non-null   object \n",
      " 24  Update me on Supply Chain Content              9240 non-null   object \n",
      " 25  Get updates on DM Content                      9240 non-null   object \n",
      " 26  City                                           5571 non-null   object \n",
      " 27  I agree to pay the amount through cheque       9240 non-null   object \n",
      " 28  A free copy of Mastering The Interview         9240 non-null   object \n",
      " 29  Last Notable Activity                          9240 non-null   object \n",
      "dtypes: float64(2), int64(3), object(25)\n",
      "memory usage: 2.1+ MB\n"
     ]
    }
   ],
   "source": [
    "lead_data.info()"
   ]
  },
  {
   "cell_type": "markdown",
   "metadata": {},
   "source": [
    "#### 1.3 - Categorical columns analysis"
   ]
  },
  {
   "cell_type": "code",
   "execution_count": 15,
   "metadata": {},
   "outputs": [
    {
     "name": "stdout",
     "output_type": "stream",
     "text": [
      "'Prospect ID': ['7927b2df-8bba-4d29-b9a2-b6e0beafe620'\n",
      " '2a272436-5132-4136-86fa-dcc88c88f482'\n",
      " '8cc8c611-a219-4f35-ad23-fdfd2656bd8a' ...\n",
      " 'aac550fe-a586-452d-8d3c-f1b62c94e02c'\n",
      " '5330a7d1-2f2b-4df4-85d6-64ca2f6b95b9'\n",
      " '571b5c8e-a5b2-4d57-8574-f2ffb06fdeff']\n",
      "\n",
      "'Lead Number': [660737 660728 660727 ... 579545 579538 579533]\n",
      "\n",
      "'Lead Origin': ['API' 'Landing Page Submission' 'Lead Add Form' 'Lead Import'\n",
      " 'Quick Add Form']\n",
      "\n",
      "'Lead Source': ['Olark Chat' 'Organic Search' 'Direct Traffic' 'Google' 'Referral Sites'\n",
      " 'Welingak Website' 'Reference' 'google' 'Facebook' nan 'blog'\n",
      " 'Pay per Click Ads' 'bing' 'Social Media' 'WeLearn' 'Click2call'\n",
      " 'Live Chat' 'welearnblog_Home' 'youtubechannel' 'testone' 'Press_Release'\n",
      " 'NC_EDM']\n",
      "\n",
      "'Do Not Email': ['No' 'Yes']\n",
      "\n",
      "'Do Not Call': ['No' 'Yes']\n",
      "\n",
      "'Converted': [0 1]\n",
      "\n",
      "'TotalVisits': [  0.   5.   2.   1.   4.   8.  11.   6.   3.   7.  13.  17.  nan   9.\n",
      "  12.  10.  16.  14.  21.  15.  22.  19.  18.  20.  43.  30.  23.  55.\n",
      " 141.  25.  27.  29.  24.  28.  26.  74.  41.  54. 115. 251.  32.  42.]\n",
      "\n",
      "'Total Time Spent on Website': [   0  674 1532 ...  603  483  927]\n",
      "\n",
      "'Page Views Per Visit': [ 0.    2.5   2.    1.    4.    8.    2.67 11.    5.    6.    3.    1.33\n",
      "  1.5   3.5   7.    2.33 13.    8.5   5.5   1.67   nan  4.5   3.33 16.\n",
      " 12.    1.71  1.8   6.5   4.33 14.    3.4  10.    1.25  1.75  2.63 15.\n",
      "  2.25  3.67  1.43  9.    2.6   4.75  1.27  3.25  5.33  2.57  2.17  2.75\n",
      "  2.8   2.2   2.86  3.91  1.4   5.67  3.2   1.38  2.09  2.4  55.    5.25\n",
      "  6.71  3.57  2.22  1.83  3.6   1.2   1.57  1.56  5.4   4.25  1.31  1.6\n",
      "  2.9   1.23  1.78  3.83  7.5   1.14  2.71  1.45  2.38  1.86  2.29  1.21\n",
      " 12.33  3.43  2.56  6.33  1.64  8.21  4.4   3.17  8.33  1.48  1.22 24.\n",
      "  3.75  6.67  1.54  2.13  2.14  2.45  3.29  4.17  1.63  3.38  1.17 14.5\n",
      "  3.8   1.19  3.82  2.83  1.93 11.5   2.08]\n",
      "\n",
      "'Last Activity': ['Page Visited on Website' 'Email Opened' 'Unreachable'\n",
      " 'Converted to Lead' 'Olark Chat Conversation' 'Email Bounced'\n",
      " 'Email Link Clicked' 'Form Submitted on Website' 'Unsubscribed'\n",
      " 'Had a Phone Conversation' 'View in browser link Clicked' nan\n",
      " 'Approached upfront' 'SMS Sent' 'Visited Booth in Tradeshow'\n",
      " 'Resubscribed to emails' 'Email Received' 'Email Marked Spam']\n",
      "\n",
      "'Country': [nan 'India' 'Russia' 'Kuwait' 'Oman' 'United Arab Emirates'\n",
      " 'United States' 'Australia' 'United Kingdom' 'Bahrain' 'Ghana'\n",
      " 'Singapore' 'Qatar' 'Saudi Arabia' 'Belgium' 'France' 'Sri Lanka' 'China'\n",
      " 'Canada' 'Netherlands' 'Sweden' 'Nigeria' 'Hong Kong' 'Germany'\n",
      " 'Asia/Pacific Region' 'Uganda' 'Kenya' 'Italy' 'South Africa' 'Tanzania'\n",
      " 'unknown' 'Malaysia' 'Liberia' 'Switzerland' 'Denmark' 'Philippines'\n",
      " 'Bangladesh' 'Vietnam' 'Indonesia']\n",
      "\n",
      "'Specialization': [<NA> 'Business Administration' 'Media and Advertising' nan\n",
      " 'Supply Chain Management' 'IT Projects Management' 'Finance Management'\n",
      " 'Travel and Tourism' 'Human Resource Management' 'Marketing Management'\n",
      " 'Banking, Investment And Insurance' 'International Business' 'E-COMMERCE'\n",
      " 'Operations Management' 'Retail Management' 'Services Excellence'\n",
      " 'Hospitality Management' 'Rural and Agribusiness' 'Healthcare Management'\n",
      " 'E-Business']\n",
      "\n",
      "'What is your current occupation': ['Unemployed' 'Student' nan 'Working Professional' 'Businessman' 'Other'\n",
      " 'Housewife']\n",
      "\n",
      "'What matters most to you in choosing a course': ['Better Career Prospects' nan 'Flexibility & Convenience' 'Other']\n",
      "\n",
      "'Search': ['No' 'Yes']\n",
      "\n",
      "'Magazine': ['No']\n",
      "\n",
      "'Newspaper Article': ['No' 'Yes']\n",
      "\n",
      "'X Education Forums': ['No' 'Yes']\n",
      "\n",
      "'Newspaper': ['No' 'Yes']\n",
      "\n",
      "'Digital Advertisement': ['No' 'Yes']\n",
      "\n",
      "'Through Recommendations': ['No' 'Yes']\n",
      "\n",
      "'Receive More Updates About Our Courses': ['No']\n",
      "\n",
      "'Tags': ['Interested in other courses' 'Ringing'\n",
      " 'Will revert after reading the email' nan 'Lost to EINS'\n",
      " 'In confusion whether part time or DLP' 'Busy' 'switched off'\n",
      " 'in touch with EINS' 'Already a student' 'Diploma holder (Not Eligible)'\n",
      " 'Graduation in progress' 'Closed by Horizzon' 'number not provided'\n",
      " 'opp hangup' 'Not doing further education' 'invalid number'\n",
      " 'wrong number given' 'Interested  in full time MBA' 'Still Thinking'\n",
      " 'Lost to Others' 'Shall take in the next coming month' 'Lateral student'\n",
      " 'Interested in Next batch' 'Recognition issue (DEC approval)'\n",
      " 'Want to take admission but has financial problems'\n",
      " 'University not recognized']\n",
      "\n",
      "'Update me on Supply Chain Content': ['No']\n",
      "\n",
      "'Get updates on DM Content': ['No']\n",
      "\n",
      "'City': [<NA> 'Mumbai' nan 'Thane & Outskirts' 'Other Metro Cities' 'Other Cities'\n",
      " 'Other Cities of Maharashtra' 'Tier II Cities']\n",
      "\n",
      "'I agree to pay the amount through cheque': ['No']\n",
      "\n",
      "'A free copy of Mastering The Interview': ['No' 'Yes']\n",
      "\n",
      "'Last Notable Activity': ['Modified' 'Email Opened' 'Page Visited on Website' 'Email Bounced'\n",
      " 'Email Link Clicked' 'Unreachable' 'Unsubscribed'\n",
      " 'Had a Phone Conversation' 'Olark Chat Conversation' 'SMS Sent'\n",
      " 'Approached upfront' 'Resubscribed to emails'\n",
      " 'View in browser link Clicked' 'Form Submitted on Website'\n",
      " 'Email Received' 'Email Marked Spam']\n",
      "\n"
     ]
    }
   ],
   "source": [
    "get_unique_vals(lead_data)"
   ]
  },
  {
   "cell_type": "code",
   "execution_count": 16,
   "metadata": {},
   "outputs": [],
   "source": [
    "# List of categorical columns\n",
    "catagorical_cols = ['Lead Origin', 'Lead Source', 'Last Activity', 'Country', 'Specialization', 'What is your current occupation', \n",
    "                    'What matters most to you in choosing a course', 'Tags', 'City', 'Last Notable Activity']"
   ]
  },
  {
   "cell_type": "code",
   "execution_count": 17,
   "metadata": {},
   "outputs": [],
   "source": [
    "# Function that will create graph of the variable\n",
    "def create_plot(col_name, figsize=(15, 5)):\n",
    "    plt.figure(figsize=figsize)\n",
    "    sns.countplot(x=col_name, hue='Converted', data=lead_data)\n",
    "    plt.xticks(rotation=90)\n",
    "    return plt.show()"
   ]
  },
  {
   "cell_type": "markdown",
   "metadata": {},
   "source": [
    "- We have created a list of catagorical variables.\n",
    "- We have created a function to create plot of the variable\n",
    "- Now we will look into each column one by one for analysis."
   ]
  },
  {
   "cell_type": "markdown",
   "metadata": {},
   "source": [
    "**1. Lead Origin**"
   ]
  },
  {
   "cell_type": "code",
   "execution_count": 18,
   "metadata": {},
   "outputs": [
    {
     "data": {
      "text/plain": [
       "array(['API', 'Landing Page Submission', 'Lead Add Form', 'Lead Import',\n",
       "       'Quick Add Form'], dtype=object)"
      ]
     },
     "execution_count": 18,
     "metadata": {},
     "output_type": "execute_result"
    }
   ],
   "source": [
    "# Check the unique values of the variable\n",
    "lead_data['Lead Origin'].unique()"
   ]
  },
  {
   "cell_type": "code",
   "execution_count": 19,
   "metadata": {},
   "outputs": [
    {
     "data": {
      "text/plain": [
       "Landing Page Submission    4886\n",
       "API                        3580\n",
       "Lead Add Form               718\n",
       "Lead Import                  55\n",
       "Quick Add Form                1\n",
       "Name: Lead Origin, dtype: int64"
      ]
     },
     "execution_count": 19,
     "metadata": {},
     "output_type": "execute_result"
    }
   ],
   "source": [
    "# Check the value count of the variable\n",
    "lead_data['Lead Origin'].value_counts(dropna=False)"
   ]
  },
  {
   "cell_type": "code",
   "execution_count": 20,
   "metadata": {},
   "outputs": [
    {
     "data": {
      "image/png": "[encoded data removed]",
      "text/plain": [
       "<Figure size 800x500 with 1 Axes>"
      ]
     },
     "metadata": {},
     "output_type": "display_data"
    }
   ],
   "source": [
    "create_plot('Lead Origin', figsize=(8, 5))"
   ]
  },
  {
   "cell_type": "markdown",
   "metadata": {},
   "source": [
    "**Conclusion:**\n",
    "1. \"Landing page submissions\" and \"API\" have identified the most leads, and the majority of the leads converted from these sources.\n",
    "2. \"Lead Add Form\" has a high lead conversion rate but the total identifies leads is less compared to \"Landing page submissions\" and \"API\".\n",
    "3. \"Lead Import\" and \"Quick Add Form\" have gathered the least leads and have very low conversion rates.\n",
    "4. We can focus on improving the conversion rate of \"API\" and \"Landing page submissions\"."
   ]
  },
  {
   "cell_type": "markdown",
   "metadata": {},
   "source": [
    "**2. Lead Source**"
   ]
  },
  {
   "cell_type": "code",
   "execution_count": 21,
   "metadata": {},
   "outputs": [
    {
     "data": {
      "text/plain": [
       "array(['Olark Chat', 'Organic Search', 'Direct Traffic', 'Google',\n",
       "       'Referral Sites', 'Welingak Website', 'Reference', 'google',\n",
       "       'Facebook', nan, 'blog', 'Pay per Click Ads', 'bing',\n",
       "       'Social Media', 'WeLearn', 'Click2call', 'Live Chat',\n",
       "       'welearnblog_Home', 'youtubechannel', 'testone', 'Press_Release',\n",
       "       'NC_EDM'], dtype=object)"
      ]
     },
     "execution_count": 21,
     "metadata": {},
     "output_type": "execute_result"
    }
   ],
   "source": [
    "# Check the unique values of the variable\n",
    "lead_data['Lead Source'].unique()"
   ]
  },
  {
   "cell_type": "code",
   "execution_count": 22,
   "metadata": {},
   "outputs": [
    {
     "data": {
      "text/plain": [
       "Google               2868\n",
       "Direct Traffic       2543\n",
       "Olark Chat           1755\n",
       "Organic Search       1154\n",
       "Reference             534\n",
       "Welingak Website      142\n",
       "Referral Sites        125\n",
       "Facebook               55\n",
       "NaN                    36\n",
       "bing                    6\n",
       "google                  5\n",
       "Click2call              4\n",
       "Press_Release           2\n",
       "Social Media            2\n",
       "Live Chat               2\n",
       "youtubechannel          1\n",
       "testone                 1\n",
       "Pay per Click Ads       1\n",
       "welearnblog_Home        1\n",
       "WeLearn                 1\n",
       "blog                    1\n",
       "NC_EDM                  1\n",
       "Name: Lead Source, dtype: int64"
      ]
     },
     "execution_count": 22,
     "metadata": {},
     "output_type": "execute_result"
    }
   ],
   "source": [
    "# Check the value count of the variable\n",
    "lead_data['Lead Source'].value_counts(dropna=False)"
   ]
  },
  {
   "cell_type": "markdown",
   "metadata": {},
   "source": [
    "- As we can see, there are many lead sources, some of which have collected very few leads.\n",
    "- Therefore, we will keep the top 5 lead sources in their original form and replace the values of the others with \"Others\".\n",
    "- We will also replace the null values with \"Others\""
   ]
  },
  {
   "cell_type": "code",
   "execution_count": 23,
   "metadata": {},
   "outputs": [],
   "source": [
    "# Replace the values with others\n",
    "lead_data['Lead Source'] = lead_data['Lead Source'].replace(['Welingak Website', 'Referral Sites', 'Facebook', 'bing', 'google', 'Click2call', \n",
    "                                                             'Press_Release', 'Social Media', 'Live Chat', 'youtubechannel', 'testone', \n",
    "                                                             'Pay per Click Ads', 'welearnblog_Home', 'WeLearn', 'blog', 'NC_EDM'], 'Others')\n"
   ]
  },
  {
   "cell_type": "code",
   "execution_count": 28,
   "metadata": {},
   "outputs": [],
   "source": [
    "# Replace the null values with others\n",
    "lead_data['Lead Source'] = lead_data['Lead Source'].fillna('Others')"
   ]
  },
  {
   "cell_type": "code",
   "execution_count": 29,
   "metadata": {},
   "outputs": [
    {
     "data": {
      "text/plain": [
       "Google            2868\n",
       "Direct Traffic    2543\n",
       "Olark Chat        1755\n",
       "Organic Search    1154\n",
       "Reference          534\n",
       "Others             386\n",
       "Name: Lead Source, dtype: int64"
      ]
     },
     "execution_count": 29,
     "metadata": {},
     "output_type": "execute_result"
    }
   ],
   "source": [
    "# Check the value count of the variable\n",
    "lead_data['Lead Source'].value_counts(dropna=False)"
   ]
  },
  {
   "cell_type": "code",
   "execution_count": 31,
   "metadata": {},
   "outputs": [
    {
     "data": {
      "image/png": "[encoded data removed]",
      "text/plain": [
       "<Figure size 1500x500 with 1 Axes>"
      ]
     },
     "metadata": {},
     "output_type": "display_data"
    }
   ],
   "source": [
    "# Create plot for better understanding\n",
    "create_plot(\"Lead Source\")"
   ]
  },
  {
   "cell_type": "markdown",
   "metadata": {},
   "source": [
    "**Conclusion:**\n",
    "1. \"Direct traffic\" and \"Google\" have gathered the most leads and have the highest conversion rate.\n",
    "2. \"Olark chat\" and \"Organic search\" have almost similar conversion rates, but the non-conversion rate is lower for \"Organic search.\"\n",
    "3. \"Reference\" has the highest conversion rate, and most of the leads successfully converted.\n",
    "4. In order to improve the conversion rate, we should focus more on \"Reference\" by providing some kind of discount options to the referrals.\n",
    "5. \"Others\" have a very low conversion rate."
   ]
  },
  {
   "cell_type": "code",
   "execution_count": 25,
   "metadata": {},
   "outputs": [],
   "source": [
    "# # Printing the unique values present in the data\n",
    "# for col in lead_data.columns:\n",
    "#     unique_values = lead_data[col].unique()\n",
    "#     print(f\"'{col}': {unique_values}\\n\")"
   ]
  },
  {
   "cell_type": "code",
   "execution_count": 26,
   "metadata": {},
   "outputs": [],
   "source": [
    "# yes_no_columns = []\n",
    "# for col in lead_data.columns:\n",
    "#     if lead_data[col].isin(['Yes', 'No', 'yes', 'no']).any():\n",
    "#         yes_no_columns.append(col)\n",
    "#         unique_values = lead_data[col].unique()\n",
    "#         print(f\"'{col}': {unique_values}\\n\")\n",
    "#     else:\n",
    "#         pass"
   ]
  },
  {
   "cell_type": "code",
   "execution_count": 27,
   "metadata": {},
   "outputs": [],
   "source": [
    "# # Converting the values of the variables (Yes - 1, No - 0)\n",
    "# lead_data[yes_no_columns] = lead_data[yes_no_columns].replace({'Yes': 1, 'No': '0'}).apply(pd.to_numeric)\n",
    "# lead_data[yes_no_columns].head()"
   ]
  }
 ],
 "metadata": {
  "kernelspec": {
   "display_name": "Python 3",
   "language": "python",
   "name": "python3"
  },
  "language_info": {
   "codemirror_mode": {
    "name": "ipython",
    "version": 3
   },
   "file_extension": ".py",
   "mimetype": "text/x-python",
   "name": "python",
   "nbconvert_exporter": "python",
   "pygments_lexer": "ipython3",
   "version": "3.8.10"
  }
 },
 "nbformat": 4,
 "nbformat_minor": 2
}
